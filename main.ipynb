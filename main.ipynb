{
 "cells": [
  {
   "cell_type": "code",
   "execution_count": 6,
   "id": "304d2a6a-0dc2-412d-9fa1-a2f0486f2cd9",
   "metadata": {},
   "outputs": [],
   "source": [
    "import numpy as np \n",
    "import matplotlib.pyplot as plt\n",
    "import sympy as smp"
   ]
  },
  {
   "cell_type": "code",
   "execution_count": 7,
   "id": "a6eb88a0-e996-42f1-b4ed-504168980635",
   "metadata": {},
   "outputs": [],
   "source": [
    "t = smp.symbols('t')"
   ]
  },
  {
   "cell_type": "code",
   "execution_count": 20,
   "id": "1164a765-4b3a-4b42-9d99-dc1ce0bb6ec3",
   "metadata": {},
   "outputs": [],
   "source": [
    "a = t**2 - 5"
   ]
  },
  {
   "cell_type": "code",
   "execution_count": 21,
   "id": "241e288e-2056-4a35-b32b-e0abd4ce3b50",
   "metadata": {},
   "outputs": [
    {
     "data": {
      "text/plain": [
       "[-sqrt(5), sqrt(5)]"
      ]
     },
     "execution_count": 21,
     "metadata": {},
     "output_type": "execute_result"
    }
   ],
   "source": [
    "smp.solve(a)"
   ]
  },
  {
   "cell_type": "code",
   "execution_count": null,
   "id": "dc18d0da-ad57-464d-85e1-b483d5495338",
   "metadata": {},
   "outputs": [],
   "source": []
  }
 ],
 "metadata": {
  "kernelspec": {
   "display_name": "Python 3 (ipykernel)",
   "language": "python",
   "name": "python3"
  },
  "language_info": {
   "codemirror_mode": {
    "name": "ipython",
    "version": 3
   },
   "file_extension": ".py",
   "mimetype": "text/x-python",
   "name": "python",
   "nbconvert_exporter": "python",
   "pygments_lexer": "ipython3",
   "version": "3.10.9"
  }
 },
 "nbformat": 4,
 "nbformat_minor": 5
}
